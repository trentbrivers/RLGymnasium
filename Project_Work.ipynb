{
 "cells": [
  {
   "cell_type": "markdown",
   "id": "89f3617c-7a62-4fb5-a013-0f112e07b4c9",
   "metadata": {},
   "source": [
    "### Trent Rivers Final Project\n",
    "\n",
    "#### Greetings!\n",
    "\n",
    "In this project, I am going to be attempting to create "
   ]
  }
 ],
 "metadata": {
  "kernelspec": {
   "display_name": "Python 3 (ipykernel)",
   "language": "python",
   "name": "python3"
  },
  "language_info": {
   "codemirror_mode": {
    "name": "ipython",
    "version": 3
   },
   "file_extension": ".py",
   "mimetype": "text/x-python",
   "name": "python",
   "nbconvert_exporter": "python",
   "pygments_lexer": "ipython3",
   "version": "3.10.8"
  }
 },
 "nbformat": 4,
 "nbformat_minor": 5
}
